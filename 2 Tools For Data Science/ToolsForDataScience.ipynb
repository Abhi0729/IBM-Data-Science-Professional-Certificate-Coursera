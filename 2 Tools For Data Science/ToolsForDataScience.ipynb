{
 "cells": [
  {
   "cell_type": "markdown",
   "id": "2bad5229-1559-4ed2-8a47-ae79f88e45ee",
   "metadata": {},
   "source": [
    "# My Jupiter Notebook on IBM Data Science Experience"
   ]
  },
  {
   "cell_type": "markdown",
   "id": "71566df5-397e-48a8-a467-ff3d315b399b",
   "metadata": {},
   "source": [
    "**Abhinandan Patil** <br>\n",
    "Computer Science and Enginnering Student"
   ]
  },
  {
   "cell_type": "markdown",
   "id": "37ec6489-9375-4d05-8696-02da24346d89",
   "metadata": {},
   "source": [
    "*I am interested in data science because I love data and using data to help bring that data to life.I love helping others. In data science that could be helping a business understand its customers or improving the way it uses its customer data.*"
   ]
  },
  {
   "cell_type": "markdown",
   "id": "c803b253-7caf-46ee-83a1-33bd710f8497",
   "metadata": {},
   "source": [
    "#### Multiplication in Python3: Multiplication of two number in python"
   ]
  },
  {
   "cell_type": "code",
   "execution_count": 1,
   "id": "7bfb0b25-e0a4-48b0-825f-952c00b65106",
   "metadata": {},
   "outputs": [
    {
     "name": "stdout",
     "output_type": "stream",
     "text": [
      "Multiplication is 20\n"
     ]
    }
   ],
   "source": [
    "a=4\n",
    "b=5\n",
    "print(\"Multiplication is\",a*b)"
   ]
  },
  {
   "cell_type": "markdown",
   "id": "02873069-945c-4fdc-97e3-4bf8338e62ff",
   "metadata": {},
   "source": [
    "- This is bullet point"
   ]
  },
  {
   "cell_type": "markdown",
   "id": "ebdd68e5-8693-412a-a957-6a6afecf6429",
   "metadata": {},
   "source": [
    "Erase Your mistake like this ~strike text~"
   ]
  },
  {
   "cell_type": "markdown",
   "id": "de57752e-0207-44b0-bea0-79e920381aff",
   "metadata": {},
   "source": [
    "### Results\n",
    "\n",
    "\n",
    "| Stretch/Untouched | ProbDistribution | Accuracy |\n",
    "| --- | --- | --- |\n",
    "| Stretched | Gaussian | .843 |"
   ]
  },
  {
   "cell_type": "markdown",
   "id": "abba7bb9-942d-41c4-962f-3ee8e240aa47",
   "metadata": {},
   "source": [
    "### Code and Syntax Highlighting\n",
    "\n",
    "```python\n",
    "def staySafe(Coronavirus)\n",
    "  if not home:\n",
    "    return home\n",
    "```"
   ]
  },
  {
   "cell_type": "markdown",
   "id": "5cc3271d-6f2e-4ac6-87bf-69ffbb9a774e",
   "metadata": {},
   "source": [
    "> This is blocked quote"
   ]
  },
  {
   "cell_type": "markdown",
   "id": "0955499b-8c3e-4e0e-a357-03475e6eb346",
   "metadata": {},
   "source": []
  },
  {
   "cell_type": "markdown",
   "id": "0e5625cf-de8a-4a9d-ab0e-e799e00273e2",
   "metadata": {},
   "source": [
    "<ol>\n",
    "  <p>This is some info.</p>\n",
    "  <li>This is question one.</li>\n",
    "  <p>This is more info.</p>\n",
    "  <li>This is question two.</li>\n",
    "</ol>"
   ]
  },
  {
   "cell_type": "code",
   "execution_count": null,
   "id": "666f108d-02bf-4f23-954d-22e2764e5acb",
   "metadata": {},
   "outputs": [],
   "source": []
  }
 ],
 "metadata": {
  "kernelspec": {
   "display_name": "Python",
   "language": "python",
   "name": "conda-env-python-py"
  },
  "language_info": {
   "codemirror_mode": {
    "name": "ipython",
    "version": 3
   },
   "file_extension": ".py",
   "mimetype": "text/x-python",
   "name": "python",
   "nbconvert_exporter": "python",
   "pygments_lexer": "ipython3",
   "version": "3.7.12"
  }
 },
 "nbformat": 4,
 "nbformat_minor": 5
}
