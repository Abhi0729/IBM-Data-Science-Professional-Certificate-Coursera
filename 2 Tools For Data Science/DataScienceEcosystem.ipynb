{
 "cells": [
  {
   "cell_type": "markdown",
   "id": "2bad5229-1559-4ed2-8a47-ae79f88e45ee",
   "metadata": {},
   "source": [
    "# Data Science Tools and Ecosystem"
   ]
  },
  {
   "cell_type": "markdown",
   "id": "37ec6489-9375-4d05-8696-02da24346d89",
   "metadata": {},
   "source": [
    "*I am interested in data science because I love data and using data to help bring that data to life.I love helping others. In data science that could be helping a business understand its customers or improving the way it uses its customer data.*"
   ]
  },
  {
   "cell_type": "markdown",
   "id": "5f91c670",
   "metadata": {},
   "source": [
    "### Data Science Languages\n",
    "<ol>\n",
    "  <li>Python</li>\n",
    "  <li>R</li>\n",
    "  <li>SQL</li>\n",
    "  <li>Java</li>\n",
    "  <li>Scala</li>\n",
    "  <li>Ruby</li>\n",
    "</ol>"
   ]
  },
  {
   "cell_type": "markdown",
   "id": "b36d092a",
   "metadata": {},
   "source": [
    "###  Commonly Used Libraries\n",
    "<ol>\n",
    "\t<li>Pandas</li>\n",
    "\t<li>Numpy</li>\n",
    "    <li>ScikitLearn</li>\n",
    "    <li>matplotlib</li>\n",
    "    <li>Pytorch</li>\n",
    "    <li>Scipy</li>\n",
    "</ol>\n",
    "    "
   ]
  },
  {
   "cell_type": "markdown",
   "id": "de57752e-0207-44b0-bea0-79e920381aff",
   "metadata": {},
   "source": [
    "### Table\n",
    "\n",
    "\n",
    "| Stretch/Untouched | ProbDistribution | Accuracy |\n",
    "| --- | --- | --- |\n",
    "| Stretched | Gaussian | .843 |\n",
    "| Stretched | Gaussian | .90|"
   ]
  },
  {
   "cell_type": "markdown",
   "id": "c803b253-7caf-46ee-83a1-33bd710f8497",
   "metadata": {},
   "source": [
    "### Arithmetic Expression : This is Simple Arithmatic Expression which add and multiply the integers "
   ]
  },
  {
   "cell_type": "code",
   "execution_count": 4,
   "id": "7bfb0b25-e0a4-48b0-825f-952c00b65106",
   "metadata": {},
   "outputs": [
    {
     "name": "stdout",
     "output_type": "stream",
     "text": [
      "17\n"
     ]
    }
   ],
   "source": [
    "a=(3*4)+5\n",
    "print(a)"
   ]
  },
  {
   "cell_type": "markdown",
   "id": "963a19c3",
   "metadata": {},
   "source": [
    "### Minutes to Hours"
   ]
  },
  {
   "cell_type": "code",
   "execution_count": 3,
   "id": "97421c8f",
   "metadata": {},
   "outputs": [
    {
     "name": "stdout",
     "output_type": "stream",
     "text": [
      "Hours:  3\n"
     ]
    }
   ],
   "source": [
    "minutes=200\n",
    "#This will convert 200 minutes to hours by diving by 60\n",
    "Hours=minutes//60\n",
    "print(\"Hours: \",Hours)"
   ]
  },
  {
   "cell_type": "markdown",
   "id": "ebdd68e5-8693-412a-a957-6a6afecf6429",
   "metadata": {},
   "source": [
    "**Objectives:**\n",
    "* Python\n",
    "* R\n",
    "* SQL\n",
    "* Java\n",
    "* Scala\n",
    "* Ruby"
   ]
  },
  {
   "cell_type": "markdown",
   "id": "abba7bb9-942d-41c4-962f-3ee8e240aa47",
   "metadata": {},
   "source": [
    "### Code and Syntax Highlighting\n",
    "\n",
    "```python\n",
    "def staySafe(Coronavirus)\n",
    "  if not home:\n",
    "    return home\n",
    "```"
   ]
  },
  {
   "cell_type": "markdown",
   "id": "71566df5-397e-48a8-a467-ff3d315b399b",
   "metadata": {},
   "source": [
    "## Abhinandan Patil \n",
    "Computer Science and Enginnering Student<br>\n",
    "Author"
   ]
  },
  {
   "cell_type": "code",
   "execution_count": null,
   "id": "93d1c83b",
   "metadata": {},
   "outputs": [],
   "source": []
  }
 ],
 "metadata": {
  "kernelspec": {
   "display_name": "Python 3",
   "language": "python",
   "name": "python3"
  },
  "language_info": {
   "codemirror_mode": {
    "name": "ipython",
    "version": 3
   },
   "file_extension": ".py",
   "mimetype": "text/x-python",
   "name": "python",
   "nbconvert_exporter": "python",
   "pygments_lexer": "ipython3",
   "version": "3.8.8"
  }
 },
 "nbformat": 4,
 "nbformat_minor": 5
}
