{
 "cells": [
  {
   "cell_type": "markdown",
   "id": "2bad5229-1559-4ed2-8a47-ae79f88e45ee",
   "metadata": {},
   "source": [
    "# Data Science Tools and Ecosystem"
   ]
  },
  {
   "cell_type": "markdown",
   "id": "37ec6489-9375-4d05-8696-02da24346d89",
   "metadata": {},
   "source": [
    "A data ecosystem refers to a combination of enterprise infrastructure and applications that is utilized to aggregate and analyze information. It enables organizations to better understand their customers and craft superior marketing, pricing and operations strategies."
   ]
  },
  {
   "cell_type": "markdown",
   "id": "5c5e0f80",
   "metadata": {},
   "source": [
    "### Data Science Languages\n",
    "<ol>\n",
    "  <li>Python</li>\n",
    "  <li>R</li>\n",
    "  <li>SQL</li>\n",
    "  <li>Java</li>\n",
    "  <li>Scala</li>\n",
    "  <li>Ruby</li>\n",
    "</ol>"
   ]
  },
  {
   "cell_type": "markdown",
   "id": "b37e8049",
   "metadata": {},
   "source": [
    "###  Commonly Used Libraries\n",
    "<ol>\n",
    "\t<li>Pandas</li>\n",
    "\t<li>Numpy</li>\n",
    "    <li>ScikitLearn</li>\n",
    "    <li>matplotlib</li>\n",
    "    <li>Pytorch</li>\n",
    "    <li>Scipy</li>\n",
    "</ol>\n",
    "    "
   ]
  },
  {
   "cell_type": "markdown",
   "id": "de57752e-0207-44b0-bea0-79e920381aff",
   "metadata": {},
   "source": [
    "### Table\n",
    "\n",
    "\n",
    "| No |DS Tools | \n",
    "| --- | --- | \n",
    "|1| Knime |\n",
    "| 2 | Apache Spark |\n",
    "| 3| Weka|\n",
    "|4| TensorFlow|"
   ]
  },
  {
   "cell_type": "markdown",
   "id": "c803b253-7caf-46ee-83a1-33bd710f8497",
   "metadata": {},
   "source": [
    " ### Below are a few examples of evaluating arithmetic expressions in Python.\n",
    " This is Simple Arithmatic Expression which add and multiply the integers "
   ]
  },
  {
   "cell_type": "code",
   "execution_count": 6,
   "id": "7bfb0b25-e0a4-48b0-825f-952c00b65106",
   "metadata": {},
   "outputs": [
    {
     "name": "stdout",
     "output_type": "stream",
     "text": [
      "17\n"
     ]
    }
   ],
   "source": [
    "#This a simple arithmetic expression to mutiply then add integers.\n",
    "a,b=3,4\n",
    "z=(a*b)+5\n",
    "print(z)"
   ]
  },
  {
   "cell_type": "markdown",
   "id": "4509adc3",
   "metadata": {},
   "source": [
    "### Minutes to Hours"
   ]
  },
  {
   "cell_type": "code",
   "execution_count": 3,
   "id": "fa1beadf",
   "metadata": {},
   "outputs": [
    {
     "name": "stdout",
     "output_type": "stream",
     "text": [
      "Hours:  3\n"
     ]
    }
   ],
   "source": [
    "minutes=200\n",
    "#This will convert 200 minutes to hours by diving by 60\n",
    "Hours=minutes//60\n",
    "print(\"Hours: \",Hours)"
   ]
  },
  {
   "cell_type": "markdown",
   "id": "ebdd68e5-8693-412a-a957-6a6afecf6429",
   "metadata": {},
   "source": [
    "**Objectives:**\n",
    "* List popular languages for Data Science\n",
    " * Python\n",
    " * R\n",
    " * SQL\n",
    " * Java\n",
    " * Scala\n",
    " * Ruby"
   ]
  },
  {
   "cell_type": "markdown",
   "id": "abba7bb9-942d-41c4-962f-3ee8e240aa47",
   "metadata": {},
   "source": [
    "### Code and Syntax Highlighting\n",
    "\n",
    "```python\n",
    "def staySafe(Coronavirus)\n",
    "  if not home:\n",
    "    return home\n",
    "```"
   ]
  },
  {
   "cell_type": "markdown",
   "id": "71566df5-397e-48a8-a467-ff3d315b399b",
   "metadata": {},
   "source": [
    "## Abhinandan Patil \n",
    "Computer Science and Enginnering Student<br>\n",
    "Author"
   ]
  },
  {
   "cell_type": "code",
   "execution_count": null,
   "id": "49a1a1d6",
   "metadata": {},
   "outputs": [],
   "source": []
  }
 ],
 "metadata": {
  "kernelspec": {
   "display_name": "Python 3",
   "language": "python",
   "name": "python3"
  },
  "language_info": {
   "codemirror_mode": {
    "name": "ipython",
    "version": 3
   },
   "file_extension": ".py",
   "mimetype": "text/x-python",
   "name": "python",
   "nbconvert_exporter": "python",
   "pygments_lexer": "ipython3",
   "version": "3.8.8"
  }
 },
 "nbformat": 4,
 "nbformat_minor": 5
}
